{
 "cells": [
  {
   "cell_type": "code",
   "execution_count": 6,
   "id": "initial_id",
   "metadata": {
    "collapsed": true,
    "ExecuteTime": {
     "end_time": "2024-01-11T13:59:41.201286300Z",
     "start_time": "2024-01-11T13:59:37.780093700Z"
    }
   },
   "outputs": [
    {
     "name": "stdout",
     "output_type": "stream",
     "text": [
      "Python 3.10.112.15.0\n"
     ]
    }
   ],
   "source": [
    "!python --version\n",
    "import tensorflow as tf\n",
    "import pandas as pd\n",
    "print(tf.__version__)\n",
    "import keras\n",
    "from sklearn.model_selection import train_test_split"
   ]
  },
  {
   "cell_type": "code",
   "execution_count": 11,
   "outputs": [],
   "source": [
    "import numpy as np\n",
    "import os\n",
    "\n",
    "os.environ[\"KERAS_BACKEND\"] = \"tensorflow\"\n",
    "\n",
    "# Note that Keras should only be imported after the backend\n",
    "# has been configured. The backend cannot be changed once the\n",
    "# package is imported.\n",
    "import keras"
   ],
   "metadata": {
    "collapsed": false,
    "ExecuteTime": {
     "end_time": "2024-01-11T13:34:52.285141500Z",
     "start_time": "2024-01-11T13:34:52.266136700Z"
    }
   },
   "id": "70c039f9bd4362a3"
  },
  {
   "cell_type": "code",
   "execution_count": 12,
   "outputs": [
    {
     "name": "stdout",
     "output_type": "stream",
     "text": [
      "Downloading data from https://storage.googleapis.com/tensorflow/tf-keras-datasets/mnist.npz\n",
      "11490434/11490434 [==============================] - 1s 0us/step\n",
      "x_train shape: (60000, 28, 28, 1)\n",
      "y_train shape: (60000,)\n",
      "60000 train samples\n",
      "10000 test samples\n"
     ]
    }
   ],
   "source": [
    "# Load the data and split it between train and test sets\n",
    "(x_train, y_train), (x_test, y_test) = keras.datasets.mnist.load_data()\n",
    "\n",
    "# Scale images to the [0, 1] range\n",
    "x_train = x_train.astype(\"float32\") / 255\n",
    "x_test = x_test.astype(\"float32\") / 255\n",
    "# Make sure images have shape (28, 28, 1)\n",
    "x_train = np.expand_dims(x_train, -1)\n",
    "x_test = np.expand_dims(x_test, -1)\n",
    "print(\"x_train shape:\", x_train.shape)\n",
    "print(\"y_train shape:\", y_train.shape)\n",
    "print(x_train.shape[0], \"train samples\")\n",
    "print(x_test.shape[0], \"test samples\")"
   ],
   "metadata": {
    "collapsed": false,
    "ExecuteTime": {
     "end_time": "2024-01-11T13:35:05.734630200Z",
     "start_time": "2024-01-11T13:35:03.784808Z"
    }
   },
   "id": "a6d553351f32c452"
  },
  {
   "cell_type": "code",
   "execution_count": 13,
   "outputs": [
    {
     "name": "stdout",
     "output_type": "stream",
     "text": [
      "WARNING:tensorflow:From C:\\Users\\leo-e\\Downloads\\UM\\Year 2\\2 - Machine Learning\\Labs\\venv\\lib\\site-packages\\keras\\src\\backend.py:1398: The name tf.executing_eagerly_outside_functions is deprecated. Please use tf.compat.v1.executing_eagerly_outside_functions instead.\n",
      "WARNING:tensorflow:From C:\\Users\\leo-e\\Downloads\\UM\\Year 2\\2 - Machine Learning\\Labs\\venv\\lib\\site-packages\\keras\\src\\layers\\pooling\\max_pooling2d.py:161: The name tf.nn.max_pool is deprecated. Please use tf.nn.max_pool2d instead.\n"
     ]
    }
   ],
   "source": [
    "# Model parameters\n",
    "num_classes = 10\n",
    "input_shape = (28, 28, 1)\n",
    "\n",
    "model = keras.Sequential(\n",
    "    [\n",
    "        keras.layers.Input(shape=input_shape),\n",
    "        keras.layers.Conv2D(64, kernel_size=(3, 3), activation=\"relu\"),\n",
    "        keras.layers.Conv2D(64, kernel_size=(3, 3), activation=\"relu\"),\n",
    "        keras.layers.MaxPooling2D(pool_size=(2, 2)),\n",
    "        keras.layers.Conv2D(128, kernel_size=(3, 3), activation=\"relu\"),\n",
    "        keras.layers.Conv2D(128, kernel_size=(3, 3), activation=\"relu\"),\n",
    "        keras.layers.GlobalAveragePooling2D(),\n",
    "        keras.layers.Dropout(0.5),\n",
    "        keras.layers.Dense(num_classes, activation=\"softmax\"),\n",
    "    ]\n",
    ")"
   ],
   "metadata": {
    "collapsed": false,
    "ExecuteTime": {
     "end_time": "2024-01-11T13:35:18.648989700Z",
     "start_time": "2024-01-11T13:35:17.620701400Z"
    }
   },
   "id": "d1367b83557e841f"
  },
  {
   "cell_type": "code",
   "execution_count": 14,
   "outputs": [
    {
     "name": "stdout",
     "output_type": "stream",
     "text": [
      "Model: \"sequential\"\n",
      "_________________________________________________________________\n",
      " Layer (type)                Output Shape              Param #   \n",
      "=================================================================\n",
      " conv2d (Conv2D)             (None, 26, 26, 64)        640       \n",
      "                                                                 \n",
      " conv2d_1 (Conv2D)           (None, 24, 24, 64)        36928     \n",
      "                                                                 \n",
      " max_pooling2d (MaxPooling2  (None, 12, 12, 64)        0         \n",
      " D)                                                              \n",
      "                                                                 \n",
      " conv2d_2 (Conv2D)           (None, 10, 10, 128)       73856     \n",
      "                                                                 \n",
      " conv2d_3 (Conv2D)           (None, 8, 8, 128)         147584    \n",
      "                                                                 \n",
      " global_average_pooling2d (  (None, 128)               0         \n",
      " GlobalAveragePooling2D)                                         \n",
      "                                                                 \n",
      " dropout (Dropout)           (None, 128)               0         \n",
      "                                                                 \n",
      " dense (Dense)               (None, 10)                1290      \n",
      "                                                                 \n",
      "=================================================================\n",
      "Total params: 260298 (1016.79 KB)\n",
      "Trainable params: 260298 (1016.79 KB)\n",
      "Non-trainable params: 0 (0.00 Byte)\n",
      "_________________________________________________________________\n"
     ]
    }
   ],
   "source": [
    "model.summary()"
   ],
   "metadata": {
    "collapsed": false,
    "ExecuteTime": {
     "end_time": "2024-01-11T13:35:31.172422500Z",
     "start_time": "2024-01-11T13:35:31.093061800Z"
    }
   },
   "id": "a7d79e704ebc6ee2"
  },
  {
   "cell_type": "code",
   "execution_count": 15,
   "outputs": [],
   "source": [
    "model.compile(\n",
    "    loss=keras.losses.SparseCategoricalCrossentropy(),\n",
    "    optimizer=keras.optimizers.Adam(learning_rate=1e-3),\n",
    "    metrics=[\n",
    "        keras.metrics.SparseCategoricalAccuracy(name=\"acc\"),\n",
    "    ],\n",
    ")\n"
   ],
   "metadata": {
    "collapsed": false,
    "ExecuteTime": {
     "end_time": "2024-01-11T13:35:42.860737500Z",
     "start_time": "2024-01-11T13:35:42.812737Z"
    }
   },
   "id": "d7a7ce6e90709b0"
  },
  {
   "cell_type": "code",
   "execution_count": null,
   "outputs": [
    {
     "name": "stdout",
     "output_type": "stream",
     "text": [
      "Epoch 1/20\n",
      "WARNING:tensorflow:From C:\\Users\\leo-e\\Downloads\\UM\\Year 2\\2 - Machine Learning\\Labs\\venv\\lib\\site-packages\\keras\\src\\utils\\tf_utils.py:492: The name tf.ragged.RaggedTensorValue is deprecated. Please use tf.compat.v1.ragged.RaggedTensorValue instead.\n",
      "399/399 [==============================] - 123s 304ms/step - loss: 0.8236 - acc: 0.7186 - val_loss: 0.1641 - val_acc: 0.9547\n",
      "Epoch 2/20\n",
      "399/399 [==============================] - 146s 366ms/step - loss: 0.2364 - acc: 0.9290 - val_loss: 0.0829 - val_acc: 0.9773\n",
      "Epoch 3/20\n",
      "399/399 [==============================] - 197s 494ms/step - loss: 0.1637 - acc: 0.9512 - val_loss: 0.0657 - val_acc: 0.9832\n",
      "Epoch 4/20\n",
      "399/399 [==============================] - 196s 489ms/step - loss: 0.1276 - acc: 0.9626 - val_loss: 0.0552 - val_acc: 0.9847\n",
      "Epoch 5/20\n",
      "399/399 [==============================] - 155s 388ms/step - loss: 0.1084 - acc: 0.9684 - val_loss: 0.0441 - val_acc: 0.9889\n",
      "Epoch 6/20\n",
      " 17/399 [>.............................] - ETA: 2:13 - loss: 0.1049 - acc: 0.9651"
     ]
    }
   ],
   "source": [
    "batch_size = 128\n",
    "epochs = 20\n",
    "\n",
    "callbacks = [\n",
    "    keras.callbacks.ModelCheckpoint(filepath=\"model_at_epoch_{epoch}.keras\"),\n",
    "    keras.callbacks.EarlyStopping(monitor=\"val_loss\", patience=2),\n",
    "]\n",
    "\n",
    "model.fit(\n",
    "    x_train,\n",
    "    y_train,\n",
    "    batch_size=batch_size,\n",
    "    epochs=epochs,\n",
    "    validation_split=0.15,\n",
    "    callbacks=callbacks,\n",
    ")\n",
    "score = model.evaluate(x_test, y_test, verbose=0)"
   ],
   "metadata": {
    "collapsed": false,
    "is_executing": true,
    "ExecuteTime": {
     "start_time": "2024-01-11T13:35:52.183984800Z"
    }
   },
   "id": "4c93eca9aa71d315"
  },
  {
   "cell_type": "markdown",
   "source": [
    "## OUR ANN!"
   ],
   "metadata": {
    "collapsed": false
   },
   "id": "21d6159671e85b88"
  },
  {
   "cell_type": "code",
   "execution_count": 19,
   "outputs": [
    {
     "name": "stdout",
     "output_type": "stream",
     "text": [
      "Model: \"first_test_model\"\n",
      "_________________________________________________________________\n",
      " Layer (type)                Output Shape              Param #   \n",
      "=================================================================\n",
      " input (InputLayer)          [(None, 294)]             0         \n",
      "                                                                 \n",
      " dense_30 (Dense)            (None, 64)                18880     \n",
      "                                                                 \n",
      " dense_31 (Dense)            (None, 64)                4160      \n",
      "                                                                 \n",
      " dense_32 (Dense)            (None, 1)                 65        \n",
      "                                                                 \n",
      "=================================================================\n",
      "Total params: 23105 (90.25 KB)\n",
      "Trainable params: 23105 (90.25 KB)\n",
      "Non-trainable params: 0 (0.00 Byte)\n",
      "_________________________________________________________________\n",
      "Epoch 1/5\n",
      "858/858 [==============================] - 5s 4ms/step - loss: 0.0000e+00 - accuracy: 0.2258 - val_loss: 0.0000e+00 - val_accuracy: 0.2217\n",
      "Epoch 2/5\n",
      "858/858 [==============================] - 3s 4ms/step - loss: 0.0000e+00 - accuracy: 0.2258 - val_loss: 0.0000e+00 - val_accuracy: 0.2217\n",
      "Epoch 3/5\n",
      "858/858 [==============================] - 3s 4ms/step - loss: 0.0000e+00 - accuracy: 0.2258 - val_loss: 0.0000e+00 - val_accuracy: 0.2217\n",
      "Epoch 4/5\n",
      "858/858 [==============================] - 3s 4ms/step - loss: 0.0000e+00 - accuracy: 0.2258 - val_loss: 0.0000e+00 - val_accuracy: 0.2217\n",
      "Epoch 5/5\n",
      "858/858 [==============================] - 3s 4ms/step - loss: 0.0000e+00 - accuracy: 0.2258 - val_loss: 0.0000e+00 - val_accuracy: 0.2217\n",
      "553/553 - 1s - loss: 0.0000e+00 - accuracy: 0.2282 - 1s/epoch - 2ms/step\n",
      "Test loss: 0.0\n",
      "Test accuracy: 0.22816741466522217\n"
     ]
    }
   ],
   "source": [
    "data = pd.read_csv(\"training_data/test-training-data.csv\")\n",
    "\n",
    "Y = data['Y']\n",
    "X = data.drop(['Y'],axis=1)\n",
    "X_train, X_test, Y_train, Y_test = train_test_split(X, Y, test_size=0.34, random_state=10)\n",
    "\n",
    "Y_train = Y_train / 27\n",
    "Y_test = Y_test / 27\n",
    "\n",
    "# Model parameters\n",
    "num_classes = 1\n",
    "inputs = keras.Input(shape=(294,), name=\"input\")\n",
    "dense = keras.layers.Dense(64, activation=\"relu\")\n",
    "x = dense(inputs)\n",
    "x = keras.layers.Dense(64, activation=\"relu\")(x)\n",
    "outputs = keras.layers.Dense(1)(x)\n",
    "model = keras.Model(inputs=inputs, outputs=outputs, name=\"first_test_model\")\n",
    "model.summary()\n",
    "\n",
    "model.compile(\n",
    "    loss=keras.losses.SparseCategoricalCrossentropy(from_logits=True),\n",
    "    optimizer=keras.optimizers.RMSprop(),\n",
    "    metrics=[\"accuracy\"],\n",
    ")\n",
    "\n",
    "history = model.fit(X_train, Y_train, epochs=5, validation_split=0.2)\n",
    "\n",
    "test_scores = model.evaluate(X_test, Y_test, verbose=2)\n",
    "\n",
    "\n",
    "print(\"Test loss:\", test_scores[0])\n",
    "print(\"Test accuracy:\", test_scores[1])"
   ],
   "metadata": {
    "collapsed": false,
    "ExecuteTime": {
     "end_time": "2024-01-11T14:25:35.054191900Z",
     "start_time": "2024-01-11T14:25:10.473408600Z"
    }
   },
   "id": "46adb271e65b52c7"
  }
 ],
 "metadata": {
  "kernelspec": {
   "display_name": "Python 3",
   "language": "python",
   "name": "python3"
  },
  "language_info": {
   "codemirror_mode": {
    "name": "ipython",
    "version": 2
   },
   "file_extension": ".py",
   "mimetype": "text/x-python",
   "name": "python",
   "nbconvert_exporter": "python",
   "pygments_lexer": "ipython2",
   "version": "2.7.6"
  }
 },
 "nbformat": 4,
 "nbformat_minor": 5
}
