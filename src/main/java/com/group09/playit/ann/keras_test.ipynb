{
 "cells": [
  {
   "cell_type": "code",
   "execution_count": 2,
   "id": "initial_id",
   "metadata": {
    "collapsed": true,
    "ExecuteTime": {
     "end_time": "2024-01-15T13:25:06.296271Z",
     "start_time": "2024-01-15T13:12:46.057341300Z"
    }
   },
   "outputs": [
    {
     "name": "stdout",
     "output_type": "stream",
     "text": [
      "Python 3.10.11\n",
      "WARNING:tensorflow:From C:\\Users\\lisat\\OneDrive\\Documents\\GitHub\\PlayIT\\venv\\lib\\site-packages\\keras\\src\\losses.py:2976: The name tf.losses.sparse_softmax_cross_entropy is deprecated. Please use tf.compat.v1.losses.sparse_softmax_cross_entropy instead.\n",
      "2.15.0\n"
     ]
    }
   ],
   "source": [
    "!python --version\n",
    "import tensorflow as tf\n",
    "import pandas as pd\n",
    "print(tf.__version__)\n",
    "import keras\n",
    "from sklearn.model_selection import train_test_split\n",
    "from keras import *\n",
    "from keras.src.layers import Dense\n",
    "import matplotlib as plt"
   ]
  },
  {
   "cell_type": "code",
   "execution_count": 4,
   "outputs": [],
   "source": [
    "import numpy as np\n",
    "import os\n",
    "\n",
    "os.environ[\"KERAS_BACKEND\"] = \"tensorflow\"\n",
    "\n",
    "# Note that Keras should only be imported after the backend\n",
    "# has been configured. The backend cannot be changed once the\n",
    "# package is imported.\n",
    "import keras"
   ],
   "metadata": {
    "collapsed": false,
    "ExecuteTime": {
     "end_time": "2024-01-12T11:36:36.749059200Z",
     "start_time": "2024-01-12T11:36:36.737063500Z"
    }
   },
   "id": "70c039f9bd4362a3"
  },
  {
   "cell_type": "code",
   "execution_count": 12,
   "outputs": [
    {
     "name": "stdout",
     "output_type": "stream",
     "text": [
      "Downloading data from https://storage.googleapis.com/tensorflow/tf-keras-datasets/mnist.npz\n",
      "11490434/11490434 [==============================] - 1s 0us/step\n",
      "x_train shape: (60000, 28, 28, 1)\n",
      "y_train shape: (60000,)\n",
      "60000 train samples\n",
      "10000 test samples\n"
     ]
    }
   ],
   "source": [
    "# Load the data and split it between train and test sets\n",
    "(x_train, y_train), (x_test, y_test) = keras.datasets.mnist.load_data()\n",
    "\n",
    "# Scale images to the [0, 1] range\n",
    "x_train = x_train.astype(\"float32\") / 255\n",
    "x_test = x_test.astype(\"float32\") / 255\n",
    "# Make sure images have shape (28, 28, 1)\n",
    "x_train = np.expand_dims(x_train, -1)\n",
    "x_test = np.expand_dims(x_test, -1)\n",
    "print(\"x_train shape:\", x_train.shape)\n",
    "print(\"y_train shape:\", y_train.shape)\n",
    "print(x_train.shape[0], \"train samples\")\n",
    "print(x_test.shape[0], \"test samples\")"
   ],
   "metadata": {
    "collapsed": false,
    "ExecuteTime": {
     "end_time": "2024-01-11T13:35:05.734630200Z",
     "start_time": "2024-01-11T13:35:03.784808Z"
    }
   },
   "id": "a6d553351f32c452"
  },
  {
   "cell_type": "code",
   "execution_count": 13,
   "outputs": [
    {
     "name": "stdout",
     "output_type": "stream",
     "text": [
      "WARNING:tensorflow:From C:\\Users\\leo-e\\Downloads\\UM\\Year 2\\2 - Machine Learning\\Labs\\venv\\lib\\site-packages\\keras\\src\\backend.py:1398: The name tf.executing_eagerly_outside_functions is deprecated. Please use tf.compat.v1.executing_eagerly_outside_functions instead.\n",
      "WARNING:tensorflow:From C:\\Users\\leo-e\\Downloads\\UM\\Year 2\\2 - Machine Learning\\Labs\\venv\\lib\\site-packages\\keras\\src\\layers\\pooling\\max_pooling2d.py:161: The name tf.nn.max_pool is deprecated. Please use tf.nn.max_pool2d instead.\n"
     ]
    }
   ],
   "source": [
    "# Model parameters\n",
    "num_classes = 10\n",
    "input_shape = (28, 28, 1)\n",
    "\n",
    "model = keras.Sequential(\n",
    "    [\n",
    "        keras.layers.Input(shape=input_shape),\n",
    "        keras.layers.Conv2D(64, kernel_size=(3, 3), activation=\"relu\"),\n",
    "        keras.layers.Conv2D(64, kernel_size=(3, 3), activation=\"relu\"),\n",
    "        keras.layers.MaxPooling2D(pool_size=(2, 2)),\n",
    "        keras.layers.Conv2D(128, kernel_size=(3, 3), activation=\"relu\"),\n",
    "        keras.layers.Conv2D(128, kernel_size=(3, 3), activation=\"relu\"),\n",
    "        keras.layers.GlobalAveragePooling2D(),\n",
    "        keras.layers.Dropout(0.5),\n",
    "        keras.layers.Dense(num_classes, activation=\"softmax\"),\n",
    "    ]\n",
    ")"
   ],
   "metadata": {
    "collapsed": false,
    "ExecuteTime": {
     "end_time": "2024-01-11T13:35:18.648989700Z",
     "start_time": "2024-01-11T13:35:17.620701400Z"
    }
   },
   "id": "d1367b83557e841f"
  },
  {
   "cell_type": "code",
   "execution_count": 14,
   "outputs": [
    {
     "name": "stdout",
     "output_type": "stream",
     "text": [
      "Model: \"sequential\"\n",
      "_________________________________________________________________\n",
      " Layer (type)                Output Shape              Param #   \n",
      "=================================================================\n",
      " conv2d (Conv2D)             (None, 26, 26, 64)        640       \n",
      "                                                                 \n",
      " conv2d_1 (Conv2D)           (None, 24, 24, 64)        36928     \n",
      "                                                                 \n",
      " max_pooling2d (MaxPooling2  (None, 12, 12, 64)        0         \n",
      " D)                                                              \n",
      "                                                                 \n",
      " conv2d_2 (Conv2D)           (None, 10, 10, 128)       73856     \n",
      "                                                                 \n",
      " conv2d_3 (Conv2D)           (None, 8, 8, 128)         147584    \n",
      "                                                                 \n",
      " global_average_pooling2d (  (None, 128)               0         \n",
      " GlobalAveragePooling2D)                                         \n",
      "                                                                 \n",
      " dropout (Dropout)           (None, 128)               0         \n",
      "                                                                 \n",
      " dense (Dense)               (None, 10)                1290      \n",
      "                                                                 \n",
      "=================================================================\n",
      "Total params: 260298 (1016.79 KB)\n",
      "Trainable params: 260298 (1016.79 KB)\n",
      "Non-trainable params: 0 (0.00 Byte)\n",
      "_________________________________________________________________\n"
     ]
    }
   ],
   "source": [
    "model.summary()"
   ],
   "metadata": {
    "collapsed": false,
    "ExecuteTime": {
     "end_time": "2024-01-11T13:35:31.172422500Z",
     "start_time": "2024-01-11T13:35:31.093061800Z"
    }
   },
   "id": "a7d79e704ebc6ee2"
  },
  {
   "cell_type": "code",
   "execution_count": 15,
   "outputs": [],
   "source": [
    "model.compile(\n",
    "    loss=keras.losses.SparseCategoricalCrossentropy(),\n",
    "    optimizer=keras.optimizers.Adam(learning_rate=1e-3),\n",
    "    metrics=[\n",
    "        keras.metrics.SparseCategoricalAccuracy(name=\"acc\"),\n",
    "    ],\n",
    ")\n"
   ],
   "metadata": {
    "collapsed": false,
    "ExecuteTime": {
     "end_time": "2024-01-11T13:35:42.860737500Z",
     "start_time": "2024-01-11T13:35:42.812737Z"
    }
   },
   "id": "d7a7ce6e90709b0"
  },
  {
   "cell_type": "code",
   "execution_count": null,
   "outputs": [
    {
     "name": "stdout",
     "output_type": "stream",
     "text": [
      "Epoch 1/20\n",
      "WARNING:tensorflow:From C:\\Users\\leo-e\\Downloads\\UM\\Year 2\\2 - Machine Learning\\Labs\\venv\\lib\\site-packages\\keras\\src\\utils\\tf_utils.py:492: The name tf.ragged.RaggedTensorValue is deprecated. Please use tf.compat.v1.ragged.RaggedTensorValue instead.\n",
      "399/399 [==============================] - 123s 304ms/step - loss: 0.8236 - acc: 0.7186 - val_loss: 0.1641 - val_acc: 0.9547\n",
      "Epoch 2/20\n",
      "399/399 [==============================] - 146s 366ms/step - loss: 0.2364 - acc: 0.9290 - val_loss: 0.0829 - val_acc: 0.9773\n",
      "Epoch 3/20\n",
      "399/399 [==============================] - 197s 494ms/step - loss: 0.1637 - acc: 0.9512 - val_loss: 0.0657 - val_acc: 0.9832\n",
      "Epoch 4/20\n",
      "399/399 [==============================] - 196s 489ms/step - loss: 0.1276 - acc: 0.9626 - val_loss: 0.0552 - val_acc: 0.9847\n",
      "Epoch 5/20\n",
      "399/399 [==============================] - 155s 388ms/step - loss: 0.1084 - acc: 0.9684 - val_loss: 0.0441 - val_acc: 0.9889\n",
      "Epoch 6/20\n",
      " 17/399 [>.............................] - ETA: 2:13 - loss: 0.1049 - acc: 0.9651"
     ]
    }
   ],
   "source": [
    "batch_size = 128\n",
    "epochs = 20\n",
    "\n",
    "callbacks = [\n",
    "    keras.callbacks.ModelCheckpoint(filepath=\"model_at_epoch_{epoch}.keras\"),\n",
    "    keras.callbacks.EarlyStopping(monitor=\"val_loss\", patience=2),\n",
    "]\n",
    "\n",
    "model.fit(\n",
    "    x_train,\n",
    "    y_train,\n",
    "    batch_size=batch_size,\n",
    "    epochs=epochs,\n",
    "    validation_split=0.15,\n",
    "    callbacks=callbacks,\n",
    ")\n",
    "score = model.evaluate(x_test, y_test, verbose=0)"
   ],
   "metadata": {
    "collapsed": false,
    "is_executing": true,
    "ExecuteTime": {
     "start_time": "2024-01-11T13:35:52.183984800Z"
    }
   },
   "id": "4c93eca9aa71d315"
  },
  {
   "cell_type": "markdown",
   "source": [
    "## OUR ANN!"
   ],
   "metadata": {
    "collapsed": false
   },
   "id": "21d6159671e85b88"
  },
  {
   "cell_type": "code",
   "execution_count": 4,
   "outputs": [],
   "source": [
    "# Read DATA\n",
    "data = pd.read_csv(\"training_data/test-training-data2.csv\")\n",
    "\n",
    "Y = data['Y']\n",
    "X = data.drop(['Y'],axis=1)\n",
    "X_train, X_test, Y_train, Y_test = train_test_split(X, Y, test_size=0.16, random_state=10)"
   ],
   "metadata": {
    "collapsed": false,
    "ExecuteTime": {
     "end_time": "2024-01-15T13:28:19.091473100Z",
     "start_time": "2024-01-15T13:28:09.391393100Z"
    }
   },
   "id": "5699f1006668015"
  },
  {
   "cell_type": "code",
   "execution_count": 1,
   "outputs": [
    {
     "ename": "NameError",
     "evalue": "name 'Sequential' is not defined",
     "output_type": "error",
     "traceback": [
      "\u001B[1;31m---------------------------------------------------------------------------\u001B[0m",
      "\u001B[1;31mNameError\u001B[0m                                 Traceback (most recent call last)",
      "Cell \u001B[1;32mIn[1], line 4\u001B[0m\n\u001B[0;32m      1\u001B[0m \u001B[38;5;66;03m# Model\u001B[39;00m\n\u001B[0;32m      2\u001B[0m num_classes \u001B[38;5;241m=\u001B[39m \u001B[38;5;241m1\u001B[39m\n\u001B[1;32m----> 4\u001B[0m model \u001B[38;5;241m=\u001B[39m \u001B[43mSequential\u001B[49m([\n\u001B[0;32m      5\u001B[0m     Dense(units\u001B[38;5;241m=\u001B[39m\u001B[38;5;241m250\u001B[39m, input_shape\u001B[38;5;241m=\u001B[39m (\u001B[38;5;241m294\u001B[39m,), activation \u001B[38;5;241m=\u001B[39m \u001B[38;5;124m'\u001B[39m\u001B[38;5;124mrelu\u001B[39m\u001B[38;5;124m'\u001B[39m),\n\u001B[0;32m      6\u001B[0m     Dense(units\u001B[38;5;241m=\u001B[39m\u001B[38;5;241m100\u001B[39m, activation \u001B[38;5;241m=\u001B[39m \u001B[38;5;124m'\u001B[39m\u001B[38;5;124mrelu\u001B[39m\u001B[38;5;124m'\u001B[39m),\n\u001B[0;32m      7\u001B[0m     Dense(units\u001B[38;5;241m=\u001B[39m\u001B[38;5;241m50\u001B[39m, activation \u001B[38;5;241m=\u001B[39m \u001B[38;5;124m'\u001B[39m\u001B[38;5;124mrelu\u001B[39m\u001B[38;5;124m'\u001B[39m),\n\u001B[0;32m      8\u001B[0m     Dense(units\u001B[38;5;241m=\u001B[39mnum_classes, activation\u001B[38;5;241m=\u001B[39m\u001B[38;5;124m'\u001B[39m\u001B[38;5;124mrelu\u001B[39m\u001B[38;5;124m'\u001B[39m),\n\u001B[0;32m      9\u001B[0m ])\n\u001B[0;32m     12\u001B[0m model\u001B[38;5;241m.\u001B[39msummary()\n\u001B[0;32m     14\u001B[0m model\u001B[38;5;241m.\u001B[39mcompile(\n\u001B[0;32m     15\u001B[0m     loss\u001B[38;5;241m=\u001B[39mkeras\u001B[38;5;241m.\u001B[39mlosses\u001B[38;5;241m.\u001B[39mMeanAbsoluteError(),\n\u001B[0;32m     16\u001B[0m     optimizer\u001B[38;5;241m=\u001B[39mkeras\u001B[38;5;241m.\u001B[39moptimizers\u001B[38;5;241m.\u001B[39mAdam(),\n\u001B[0;32m     17\u001B[0m     metrics\u001B[38;5;241m=\u001B[39m[\u001B[38;5;124m\"\u001B[39m\u001B[38;5;124mmae\u001B[39m\u001B[38;5;124m\"\u001B[39m],\n\u001B[0;32m     18\u001B[0m )\n",
      "\u001B[1;31mNameError\u001B[0m: name 'Sequential' is not defined"
     ]
    }
   ],
   "source": [
    "# Model\n",
    "num_classes = 1\n",
    "\n",
    "model = Sequential([\n",
    "    Dense(units=250, input_shape= (294,), activation = 'relu'),\n",
    "    Dense(units=100, activation = 'relu'),\n",
    "    Dense(units=50, activation = 'relu'),\n",
    "    Dense(units=num_classes, activation='relu'),\n",
    "])\n",
    "\n",
    "\n",
    "model.summary()\n",
    "\n",
    "model.compile(\n",
    "    loss=keras.losses.MeanAbsoluteError(),\n",
    "    optimizer=keras.optimizers.Adam(),\n",
    "    metrics=[\"mae\"],\n",
    ")\n",
    "\n",
    "history = model.fit(X_train, Y_train, epochs=20, validation_split=0.2)\n",
    "\n",
    "test_scores = model.evaluate(X_test, Y_test, verbose=2)\n",
    "\n",
    "\n",
    "print(\"Test loss:\", test_scores[0])\n",
    "print(\"Test accuracy:\", test_scores[1])"
   ],
   "metadata": {
    "collapsed": false,
    "ExecuteTime": {
     "end_time": "2024-01-15T13:11:16.173227Z",
     "start_time": "2024-01-15T13:11:15.917742700Z"
    }
   },
   "id": "46adb271e65b52c7"
  },
  {
   "cell_type": "code",
   "execution_count": 5,
   "outputs": [
    {
     "name": "stdout",
     "output_type": "stream",
     "text": [
      "X:  [[-1 -1  1 -1 -1 -1 -1 -1 -1 -1 -1 -1 -1 -1 -1 -1 -1 -1 -1 -1 -1 -1  1 -1\n",
      "   1 -1 -1  1 -1  1 -1  1 -1 -1  1  1 -1 -1 -1 -1 -1 -1 -1 -1 -1  1 -1 -1\n",
      "  -1 -1  1 -1 -1 -1 -1  1 -1 -1 -1 -1 -1 -1  1 -1 -1  1 -1 -1 -1 -1 -1 -1\n",
      "  -1 -1 -1 -1 -1 -1 -1 -1 -1 -1 -1 -1 -1 -1 -1 -1 -1 -1 -1 -1 -1 -1 -1 -1\n",
      "  -1 -1 -1 -1 -1 -1 -1 -1  1 -1 -1 -1 -1 -1 -1 -1 -1 -1 -1 -1 -1 -1 -1 -1\n",
      "  -1 -1 -1 -1 -1  1 -1 -1 -1 -1 -1 -1 -1 -1 -1 -1 -1 -1 -1 -1 -1 -1 -1 -1\n",
      "  -1 -1 -1 -1 -1 -1 -1 -1 -1 -1 -1 -1 -1 -1 -1 -1 -1 -1 -1 -1 -1 -1 -1 -1\n",
      "  -1 -1 -1 -1 -1 -1 -1 -1 -1 -1 -1 -1 -1 -1  1 -1 -1 -1 -1 -1 -1 -1 -1 -1\n",
      "  -1 -1 -1 -1 -1 -1 -1 -1 -1 -1 -1 -1 -1 -1 -1 -1 -1 -1 -1 -1 -1 -1 -1 -1\n",
      "  -1 -1 -1 -1 -1 -1  1 -1 -1 -1 -1 -1 -1 -1 -1 -1 -1 -1 -1 -1 -1 -1 -1 -1\n",
      "  -1 -1 -1 -1 -1 -1 -1 -1 -1 -1 -1 -1 -1 -1 -1 -1 -1 -1 -1 -1  1 -1 -1 -1\n",
      "  -1 -1 -1 -1 -1 -1 -1 -1 -1 -1  1  0  0  0  1  0  0  0  1  0  1  0 -1 -1\n",
      "   1 -1 -1  1 -1 -1]]\n",
      "Y:  0\n"
     ]
    }
   ],
   "source": [
    "index = 30\n",
    "\n",
    "A = X_test.iloc[index].to_numpy()\n",
    "A = A.reshape(1,294)\n",
    "\n",
    "B = Y_test.iloc[index]\n",
    "print(\"X: \", A)\n",
    "print(\"Y: \", B)\n"
   ],
   "metadata": {
    "collapsed": false,
    "ExecuteTime": {
     "end_time": "2024-01-15T13:28:30.662467900Z",
     "start_time": "2024-01-15T13:28:30.650653500Z"
    }
   },
   "id": "de070311a097455b"
  },
  {
   "cell_type": "code",
   "execution_count": null,
   "outputs": [],
   "source": [
    "model.evaluate(X_test, Y_test, verbose=2)\n",
    "\n",
    "# model.save(\"ANN-3Layers.keras\")"
   ],
   "metadata": {
    "collapsed": false
   },
   "id": "dc64fb3b75e7de4c"
  },
  {
   "cell_type": "code",
   "execution_count": null,
   "outputs": [],
   "source": [
    "plt.plot(history.history['loss'])\n",
    "plt.plot(history.history['val_loss'])\n",
    "plt.title('Model loss for 4 layers in NN (200,100,50,50)')\n",
    "plt.ylabel('loss')\n",
    "plt.xlabel('epoch')\n",
    "plt.legend(['train', 'test'], loc='upper left')\n",
    "plt.show()"
   ],
   "metadata": {
    "collapsed": false
   },
   "id": "a10be569949871b"
  },
  {
   "cell_type": "markdown",
   "source": [
    "## LOADING EXISTING NETWORK"
   ],
   "metadata": {
    "collapsed": false
   },
   "id": "9618ce78403529a4"
  },
  {
   "cell_type": "code",
   "execution_count": 8,
   "outputs": [],
   "source": [
    "def create_model():\n",
    "    model = Sequential([\n",
    "        Dense(units=250, input_shape= (294,), activation = 'relu'),\n",
    "        Dense(units=100, activation = 'relu'),\n",
    "        Dense(units=50, activation = 'relu'),\n",
    "        Dense(units=num_classes, activation='relu'),\n",
    "    ])\n",
    "\n",
    "    model.summary()\n",
    "    \n",
    "    model.compile(\n",
    "        loss=keras.losses.MeanAbsoluteError(),\n",
    "        optimizer=keras.optimizers.Adam(),\n",
    "        metrics=[\"mae\"],\n",
    "    )\n",
    "    return model"
   ],
   "metadata": {
    "collapsed": false,
    "ExecuteTime": {
     "end_time": "2024-01-15T13:32:45.572405300Z",
     "start_time": "2024-01-15T13:32:45.554599400Z"
    }
   },
   "id": "f8845c862222a19b"
  },
  {
   "cell_type": "code",
   "execution_count": 0,
   "outputs": [],
   "source": [
    "# Create new model and load in weights\n",
    "model = create_model()\n",
    "model.load_weights('ANN-3Layers.keras')"
   ],
   "metadata": {
    "collapsed": false
   },
   "id": "2ba855f1c874bc4b"
  },
  {
   "cell_type": "code",
   "execution_count": 16,
   "outputs": [
    {
     "name": "stdout",
     "output_type": "stream",
     "text": [
      "Model: \"sequential_8\"\n",
      "_________________________________________________________________\n",
      " Layer (type)                Output Shape              Param #   \n",
      "=================================================================\n",
      " dense_32 (Dense)            (None, 250)               73750     \n",
      "                                                                 \n",
      " dense_33 (Dense)            (None, 100)               25100     \n",
      "                                                                 \n",
      " dense_34 (Dense)            (None, 50)                5050      \n",
      "                                                                 \n",
      " dense_35 (Dense)            (None, 1)                 51        \n",
      "                                                                 \n",
      "=================================================================\n",
      "Total params: 103951 (406.06 KB)\n",
      "Trainable params: 103951 (406.06 KB)\n",
      "Non-trainable params: 0 (0.00 Byte)\n",
      "_________________________________________________________________\n"
     ]
    },
    {
     "name": "stderr",
     "output_type": "stream",
     "text": [
      "WARNING:absl:Skipping variable loading for optimizer 'Adam', because it has 1 variables whereas the saved optimizer has 17 variables. \n"
     ]
    },
    {
     "name": "stdout",
     "output_type": "stream",
     "text": [
      "X:  [[ 1 -1 -1 -1 -1 -1 -1 -1 -1 -1 -1 -1 -1  1 -1 -1 -1 -1 -1 -1 -1 -1 -1  1\n",
      "  -1 -1 -1 -1 -1 -1 -1 -1 -1 -1 -1 -1 -1 -1 -1 -1 -1 -1 -1 -1 -1 -1 -1 -1\n",
      "  -1 -1 -1 -1 -1 -1 -1 -1 -1 -1 -1 -1 -1 -1 -1 -1 -1 -1 -1 -1 -1 -1 -1 -1\n",
      "  -1 -1  1 -1 -1 -1 -1 -1 -1 -1 -1 -1  1 -1 -1 -1 -1 -1 -1 -1 -1 -1 -1 -1\n",
      "  -1 -1 -1 -1 -1 -1 -1 -1 -1 -1 -1 -1 -1 -1 -1 -1 -1 -1 -1 -1 -1 -1  1 -1\n",
      "   1 -1 -1 -1 -1 -1 -1 -1 -1 -1 -1 -1 -1 -1 -1 -1 -1 -1 -1 -1 -1 -1  1 -1\n",
      "  -1  1 -1  1  1  1  1 -1 -1 -1 -1  1 -1 -1 -1 -1 -1 -1  1 -1 -1 -1 -1 -1\n",
      "   1  1 -1 -1 -1  1 -1 -1 -1  1  1 -1  1 -1 -1 -1 -1  1 -1 -1 -1 -1  1 -1\n",
      "   1 -1 -1  1 -1 -1 -1 -1 -1 -1 -1 -1  1  1 -1 -1 -1  1  1 -1 -1 -1 -1  1\n",
      "  -1 -1 -1 -1 -1 -1 -1  1 -1 -1 -1 -1  1 -1 -1 -1 -1 -1  1  1 -1 -1 -1  1\n",
      "   1  1 -1 -1 -1  1 -1 -1 -1 -1 -1 -1 -1 -1 -1 -1 -1 -1 -1 -1  1 -1 -1  1\n",
      "  -1  1 -1 -1  1 -1 -1  1 -1 -1 -1 -1  1 -1  1  1  1  1 -1  1 -1  1  1 -1\n",
      "  -1 -1 -1 -1  1 -1]]\n",
      "Y:  2\n",
      "1/1 [==============================] - 0s 57ms/step\n",
      "[[1.9475459]]\n",
      "WARNING:tensorflow:From C:\\Users\\lisat\\OneDrive\\Documents\\GitHub\\PlayIT\\venv\\lib\\site-packages\\keras\\src\\utils\\tf_utils.py:492: The name tf.ragged.RaggedTensorValue is deprecated. Please use tf.compat.v1.ragged.RaggedTensorValue instead.\n"
     ]
    },
    {
     "name": "stderr",
     "output_type": "stream",
     "text": [
      "WARNING:tensorflow:From C:\\Users\\lisat\\OneDrive\\Documents\\GitHub\\PlayIT\\venv\\lib\\site-packages\\keras\\src\\utils\\tf_utils.py:492: The name tf.ragged.RaggedTensorValue is deprecated. Please use tf.compat.v1.ragged.RaggedTensorValue instead.\n",
      "\n"
     ]
    },
    {
     "name": "stdout",
     "output_type": "stream",
     "text": [
      "WARNING:tensorflow:From C:\\Users\\lisat\\OneDrive\\Documents\\GitHub\\PlayIT\\venv\\lib\\site-packages\\keras\\src\\engine\\base_layer_utils.py:384: The name tf.executing_eagerly_outside_functions is deprecated. Please use tf.compat.v1.executing_eagerly_outside_functions instead.\n"
     ]
    },
    {
     "name": "stderr",
     "output_type": "stream",
     "text": [
      "WARNING:tensorflow:From C:\\Users\\lisat\\OneDrive\\Documents\\GitHub\\PlayIT\\venv\\lib\\site-packages\\keras\\src\\engine\\base_layer_utils.py:384: The name tf.executing_eagerly_outside_functions is deprecated. Please use tf.compat.v1.executing_eagerly_outside_functions instead.\n",
      "\n"
     ]
    },
    {
     "name": "stdout",
     "output_type": "stream",
     "text": [
      "2600/2600 - 4s - loss: 4.0425 - mae: 4.0425 - 4s/epoch - 1ms/step\n"
     ]
    },
    {
     "data": {
      "text/plain": "[4.042544364929199, 4.042544364929199]"
     },
     "execution_count": 16,
     "metadata": {},
     "output_type": "execute_result"
    }
   ],
   "source": [
    "# Testing loaded model\n",
    "index = 35\n",
    "A = X_test.iloc[index].to_numpy()\n",
    "A = A.reshape(1,294)\n",
    "\n",
    "B = Y_test.iloc[index]\n",
    "print(\"X: \", A)\n",
    "print(\"Y: \", B)\n",
    "print(model.predict(A))\n"
   ],
   "metadata": {
    "collapsed": false,
    "ExecuteTime": {
     "start_time": "2024-01-15T13:36:37.396451Z"
    }
   },
   "id": "41c671a5ff3c9b8e"
  }
 ],
 "metadata": {
  "kernelspec": {
   "display_name": "Python 3",
   "language": "python",
   "name": "python3"
  },
  "language_info": {
   "codemirror_mode": {
    "name": "ipython",
    "version": 2
   },
   "file_extension": ".py",
   "mimetype": "text/x-python",
   "name": "python",
   "nbconvert_exporter": "python",
   "pygments_lexer": "ipython2",
   "version": "2.7.6"
  }
 },
 "nbformat": 4,
 "nbformat_minor": 5
}
