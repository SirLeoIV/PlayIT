{
 "cells": [
  {
   "cell_type": "code",
   "execution_count": 25,
   "id": "initial_id",
   "metadata": {
    "collapsed": true,
    "ExecuteTime": {
     "end_time": "2024-01-12T12:19:03.694692100Z",
     "start_time": "2024-01-12T12:19:03.520149300Z"
    }
   },
   "outputs": [
    {
     "name": "stdout",
     "output_type": "stream",
     "text": [
      "Python 3.10.112.15.0\n"
     ]
    }
   ],
   "source": [
    "!python --version\n",
    "import tensorflow as tf\n",
    "import pandas as pd\n",
    "print(tf.__version__)\n",
    "import keras\n",
    "from sklearn.model_selection import train_test_split\n",
    "from keras import *\n",
    "from keras.src.layers import Dense\n",
    "import matplotlib as plt"
   ]
  },
  {
   "cell_type": "code",
   "execution_count": 4,
   "outputs": [],
   "source": [
    "import numpy as np\n",
    "import os\n",
    "\n",
    "os.environ[\"KERAS_BACKEND\"] = \"tensorflow\"\n",
    "\n",
    "# Note that Keras should only be imported after the backend\n",
    "# has been configured. The backend cannot be changed once the\n",
    "# package is imported.\n",
    "import keras"
   ],
   "metadata": {
    "collapsed": false,
    "ExecuteTime": {
     "end_time": "2024-01-12T11:36:36.749059200Z",
     "start_time": "2024-01-12T11:36:36.737063500Z"
    }
   },
   "id": "70c039f9bd4362a3"
  },
  {
   "cell_type": "code",
   "execution_count": 12,
   "outputs": [
    {
     "name": "stdout",
     "output_type": "stream",
     "text": [
      "Downloading data from https://storage.googleapis.com/tensorflow/tf-keras-datasets/mnist.npz\n",
      "11490434/11490434 [==============================] - 1s 0us/step\n",
      "x_train shape: (60000, 28, 28, 1)\n",
      "y_train shape: (60000,)\n",
      "60000 train samples\n",
      "10000 test samples\n"
     ]
    }
   ],
   "source": [
    "# Load the data and split it between train and test sets\n",
    "(x_train, y_train), (x_test, y_test) = keras.datasets.mnist.load_data()\n",
    "\n",
    "# Scale images to the [0, 1] range\n",
    "x_train = x_train.astype(\"float32\") / 255\n",
    "x_test = x_test.astype(\"float32\") / 255\n",
    "# Make sure images have shape (28, 28, 1)\n",
    "x_train = np.expand_dims(x_train, -1)\n",
    "x_test = np.expand_dims(x_test, -1)\n",
    "print(\"x_train shape:\", x_train.shape)\n",
    "print(\"y_train shape:\", y_train.shape)\n",
    "print(x_train.shape[0], \"train samples\")\n",
    "print(x_test.shape[0], \"test samples\")"
   ],
   "metadata": {
    "collapsed": false,
    "ExecuteTime": {
     "end_time": "2024-01-11T13:35:05.734630200Z",
     "start_time": "2024-01-11T13:35:03.784808Z"
    }
   },
   "id": "a6d553351f32c452"
  },
  {
   "cell_type": "code",
   "execution_count": 13,
   "outputs": [
    {
     "name": "stdout",
     "output_type": "stream",
     "text": [
      "WARNING:tensorflow:From C:\\Users\\leo-e\\Downloads\\UM\\Year 2\\2 - Machine Learning\\Labs\\venv\\lib\\site-packages\\keras\\src\\backend.py:1398: The name tf.executing_eagerly_outside_functions is deprecated. Please use tf.compat.v1.executing_eagerly_outside_functions instead.\n",
      "WARNING:tensorflow:From C:\\Users\\leo-e\\Downloads\\UM\\Year 2\\2 - Machine Learning\\Labs\\venv\\lib\\site-packages\\keras\\src\\layers\\pooling\\max_pooling2d.py:161: The name tf.nn.max_pool is deprecated. Please use tf.nn.max_pool2d instead.\n"
     ]
    }
   ],
   "source": [
    "# Model parameters\n",
    "num_classes = 10\n",
    "input_shape = (28, 28, 1)\n",
    "\n",
    "model = keras.Sequential(\n",
    "    [\n",
    "        keras.layers.Input(shape=input_shape),\n",
    "        keras.layers.Conv2D(64, kernel_size=(3, 3), activation=\"relu\"),\n",
    "        keras.layers.Conv2D(64, kernel_size=(3, 3), activation=\"relu\"),\n",
    "        keras.layers.MaxPooling2D(pool_size=(2, 2)),\n",
    "        keras.layers.Conv2D(128, kernel_size=(3, 3), activation=\"relu\"),\n",
    "        keras.layers.Conv2D(128, kernel_size=(3, 3), activation=\"relu\"),\n",
    "        keras.layers.GlobalAveragePooling2D(),\n",
    "        keras.layers.Dropout(0.5),\n",
    "        keras.layers.Dense(num_classes, activation=\"softmax\"),\n",
    "    ]\n",
    ")"
   ],
   "metadata": {
    "collapsed": false,
    "ExecuteTime": {
     "end_time": "2024-01-11T13:35:18.648989700Z",
     "start_time": "2024-01-11T13:35:17.620701400Z"
    }
   },
   "id": "d1367b83557e841f"
  },
  {
   "cell_type": "code",
   "execution_count": 14,
   "outputs": [
    {
     "name": "stdout",
     "output_type": "stream",
     "text": [
      "Model: \"sequential\"\n",
      "_________________________________________________________________\n",
      " Layer (type)                Output Shape              Param #   \n",
      "=================================================================\n",
      " conv2d (Conv2D)             (None, 26, 26, 64)        640       \n",
      "                                                                 \n",
      " conv2d_1 (Conv2D)           (None, 24, 24, 64)        36928     \n",
      "                                                                 \n",
      " max_pooling2d (MaxPooling2  (None, 12, 12, 64)        0         \n",
      " D)                                                              \n",
      "                                                                 \n",
      " conv2d_2 (Conv2D)           (None, 10, 10, 128)       73856     \n",
      "                                                                 \n",
      " conv2d_3 (Conv2D)           (None, 8, 8, 128)         147584    \n",
      "                                                                 \n",
      " global_average_pooling2d (  (None, 128)               0         \n",
      " GlobalAveragePooling2D)                                         \n",
      "                                                                 \n",
      " dropout (Dropout)           (None, 128)               0         \n",
      "                                                                 \n",
      " dense (Dense)               (None, 10)                1290      \n",
      "                                                                 \n",
      "=================================================================\n",
      "Total params: 260298 (1016.79 KB)\n",
      "Trainable params: 260298 (1016.79 KB)\n",
      "Non-trainable params: 0 (0.00 Byte)\n",
      "_________________________________________________________________\n"
     ]
    }
   ],
   "source": [
    "model.summary()"
   ],
   "metadata": {
    "collapsed": false,
    "ExecuteTime": {
     "end_time": "2024-01-11T13:35:31.172422500Z",
     "start_time": "2024-01-11T13:35:31.093061800Z"
    }
   },
   "id": "a7d79e704ebc6ee2"
  },
  {
   "cell_type": "code",
   "execution_count": 15,
   "outputs": [],
   "source": [
    "model.compile(\n",
    "    loss=keras.losses.SparseCategoricalCrossentropy(),\n",
    "    optimizer=keras.optimizers.Adam(learning_rate=1e-3),\n",
    "    metrics=[\n",
    "        keras.metrics.SparseCategoricalAccuracy(name=\"acc\"),\n",
    "    ],\n",
    ")\n"
   ],
   "metadata": {
    "collapsed": false,
    "ExecuteTime": {
     "end_time": "2024-01-11T13:35:42.860737500Z",
     "start_time": "2024-01-11T13:35:42.812737Z"
    }
   },
   "id": "d7a7ce6e90709b0"
  },
  {
   "cell_type": "code",
   "execution_count": null,
   "outputs": [
    {
     "name": "stdout",
     "output_type": "stream",
     "text": [
      "Epoch 1/20\n",
      "WARNING:tensorflow:From C:\\Users\\leo-e\\Downloads\\UM\\Year 2\\2 - Machine Learning\\Labs\\venv\\lib\\site-packages\\keras\\src\\utils\\tf_utils.py:492: The name tf.ragged.RaggedTensorValue is deprecated. Please use tf.compat.v1.ragged.RaggedTensorValue instead.\n",
      "399/399 [==============================] - 123s 304ms/step - loss: 0.8236 - acc: 0.7186 - val_loss: 0.1641 - val_acc: 0.9547\n",
      "Epoch 2/20\n",
      "399/399 [==============================] - 146s 366ms/step - loss: 0.2364 - acc: 0.9290 - val_loss: 0.0829 - val_acc: 0.9773\n",
      "Epoch 3/20\n",
      "399/399 [==============================] - 197s 494ms/step - loss: 0.1637 - acc: 0.9512 - val_loss: 0.0657 - val_acc: 0.9832\n",
      "Epoch 4/20\n",
      "399/399 [==============================] - 196s 489ms/step - loss: 0.1276 - acc: 0.9626 - val_loss: 0.0552 - val_acc: 0.9847\n",
      "Epoch 5/20\n",
      "399/399 [==============================] - 155s 388ms/step - loss: 0.1084 - acc: 0.9684 - val_loss: 0.0441 - val_acc: 0.9889\n",
      "Epoch 6/20\n",
      " 17/399 [>.............................] - ETA: 2:13 - loss: 0.1049 - acc: 0.9651"
     ]
    }
   ],
   "source": [
    "batch_size = 128\n",
    "epochs = 20\n",
    "\n",
    "callbacks = [\n",
    "    keras.callbacks.ModelCheckpoint(filepath=\"model_at_epoch_{epoch}.keras\"),\n",
    "    keras.callbacks.EarlyStopping(monitor=\"val_loss\", patience=2),\n",
    "]\n",
    "\n",
    "model.fit(\n",
    "    x_train,\n",
    "    y_train,\n",
    "    batch_size=batch_size,\n",
    "    epochs=epochs,\n",
    "    validation_split=0.15,\n",
    "    callbacks=callbacks,\n",
    ")\n",
    "score = model.evaluate(x_test, y_test, verbose=0)"
   ],
   "metadata": {
    "collapsed": false,
    "is_executing": true,
    "ExecuteTime": {
     "start_time": "2024-01-11T13:35:52.183984800Z"
    }
   },
   "id": "4c93eca9aa71d315"
  },
  {
   "cell_type": "markdown",
   "source": [
    "## OUR ANN!"
   ],
   "metadata": {
    "collapsed": false
   },
   "id": "21d6159671e85b88"
  },
  {
   "cell_type": "code",
   "execution_count": 37,
   "outputs": [],
   "source": [
    "# Read DATA\n",
    "data = pd.read_csv(\"training_data/test-training-data2.csv\")\n",
    "\n",
    "Y = data['Y']\n",
    "X = data.drop(['Y'],axis=1)\n",
    "X_train, X_test, Y_train, Y_test = train_test_split(X, Y, test_size=0.16, random_state=10)"
   ],
   "metadata": {
    "collapsed": false,
    "ExecuteTime": {
     "end_time": "2024-01-12T12:37:24.186661100Z",
     "start_time": "2024-01-12T12:36:58.916364Z"
    }
   },
   "id": "5699f1006668015"
  },
  {
   "cell_type": "code",
   "execution_count": 42,
   "outputs": [
    {
     "name": "stdout",
     "output_type": "stream",
     "text": [
      "Model: \"sequential_3\"\n",
      "_________________________________________________________________\n",
      " Layer (type)                Output Shape              Param #   \n",
      "=================================================================\n",
      " dense_24 (Dense)            (None, 64)                18880     \n",
      "                                                                 \n",
      " dense_25 (Dense)            (None, 64)                4160      \n",
      "                                                                 \n",
      " dense_26 (Dense)            (None, 1)                 65        \n",
      "                                                                 \n",
      "=================================================================\n",
      "Total params: 23105 (90.25 KB)\n",
      "Trainable params: 23105 (90.25 KB)\n",
      "Non-trainable params: 0 (0.00 Byte)\n",
      "_________________________________________________________________\n",
      "Epoch 1/10\n",
      "10920/10920 [==============================] - 38s 3ms/step - loss: 37.0730 - mse: 37.0730 - val_loss: 35.7110 - val_mse: 35.7110\n",
      "Epoch 2/10\n",
      "10920/10920 [==============================] - 33s 3ms/step - loss: 35.3078 - mse: 35.3078 - val_loss: 36.3960 - val_mse: 36.3960\n",
      "Epoch 3/10\n",
      "10920/10920 [==============================] - 34s 3ms/step - loss: 34.5185 - mse: 34.5185 - val_loss: 34.3263 - val_mse: 34.3263\n",
      "Epoch 4/10\n",
      "10920/10920 [==============================] - 30s 3ms/step - loss: 33.9080 - mse: 33.9080 - val_loss: 33.9209 - val_mse: 33.9209\n",
      "Epoch 5/10\n",
      "10920/10920 [==============================] - 31s 3ms/step - loss: 33.4333 - mse: 33.4333 - val_loss: 33.6529 - val_mse: 33.6529\n",
      "Epoch 6/10\n",
      "10920/10920 [==============================] - 31s 3ms/step - loss: 32.9908 - mse: 32.9908 - val_loss: 34.6899 - val_mse: 34.6899\n",
      "Epoch 7/10\n",
      "10920/10920 [==============================] - 33s 3ms/step - loss: 32.6536 - mse: 32.6536 - val_loss: 34.3401 - val_mse: 34.3401\n",
      "Epoch 8/10\n",
      "10920/10920 [==============================] - 44s 4ms/step - loss: 32.3402 - mse: 32.3402 - val_loss: 33.0876 - val_mse: 33.0876\n",
      "Epoch 9/10\n",
      "10920/10920 [==============================] - 41s 4ms/step - loss: 32.0738 - mse: 32.0738 - val_loss: 33.2157 - val_mse: 33.2157\n",
      "Epoch 10/10\n",
      "10920/10920 [==============================] - 34s 3ms/step - loss: 31.8229 - mse: 31.8229 - val_loss: 32.9314 - val_mse: 32.9314\n",
      "2600/2600 - 4s - loss: 33.0506 - mse: 33.0506 - 4s/epoch - 2ms/step\n",
      "Test loss: 33.05059051513672\n",
      "Test accuracy: 33.05059051513672\n"
     ]
    }
   ],
   "source": [
    "# Model\n",
    "num_classes = 1\n",
    "\n",
    "model = Sequential([\n",
    "    Dense(units=250, input_shape= (294,), activation = 'relu'),\n",
    "    Dense(units=100, activation = 'relu'),\n",
    "    Dense(units=50, activation = 'relu'),\n",
    "    Dense(units=num_classes, activation='relu'),\n",
    "])\n",
    "\n",
    "\n",
    "model.summary()\n",
    "\n",
    "model.compile(\n",
    "    loss=keras.losses.MeanAbsoluteError(),\n",
    "    optimizer=keras.optimizers.Adam(),\n",
    "    metrics=[\"mae\"],\n",
    ")\n",
    "\n",
    "history = model.fit(X_train, Y_train, epochs=7, validation_split=0.2)\n",
    "\n",
    "test_scores = model.evaluate(X_test, Y_test, verbose=2)\n",
    "\n",
    "\n",
    "print(\"Test loss:\", test_scores[0])\n",
    "print(\"Test accuracy:\", test_scores[1])"
   ],
   "metadata": {
    "collapsed": false,
    "ExecuteTime": {
     "end_time": "2024-01-12T13:09:24.544778500Z",
     "start_time": "2024-01-12T13:03:26.097073700Z"
    }
   },
   "id": "46adb271e65b52c7"
  },
  {
   "cell_type": "code",
   "execution_count": 41,
   "outputs": [
    {
     "name": "stdout",
     "output_type": "stream",
     "text": [
      "X:  [[ 1 -1 -1 -1 -1 -1 -1 -1 -1 -1 -1 -1 -1  1 -1 -1 -1 -1 -1 -1 -1 -1 -1 -1\n",
      "  -1 -1 -1 -1 -1 -1 -1 -1 -1 -1 -1 -1 -1 -1 -1 -1 -1 -1 -1 -1 -1  1 -1 -1\n",
      "  -1 -1 -1 -1 -1 -1 -1 -1 -1 -1 -1 -1 -1 -1 -1 -1 -1 -1 -1 -1 -1 -1 -1 -1\n",
      "   1  1 -1 -1 -1 -1 -1 -1 -1 -1 -1 -1 -1 -1 -1 -1 -1 -1 -1 -1 -1 -1 -1 -1\n",
      "  -1 -1 -1 -1 -1 -1 -1 -1 -1 -1 -1 -1 -1 -1 -1 -1 -1 -1 -1 -1 -1 -1 -1 -1\n",
      "  -1 -1  1 -1 -1 -1  1 -1 -1 -1 -1  1 -1 -1  1  1 -1 -1  1  1 -1 -1 -1 -1\n",
      "  -1 -1  1 -1 -1 -1 -1 -1 -1 -1  1  1 -1 -1 -1 -1 -1 -1  1 -1 -1  1 -1 -1\n",
      "  -1 -1 -1 -1 -1  1 -1  1  1 -1 -1 -1  1 -1  1 -1 -1  1 -1 -1  1 -1 -1 -1\n",
      "  -1 -1 -1 -1 -1  1 -1 -1 -1 -1 -1 -1 -1  1 -1 -1  1 -1  1 -1 -1 -1 -1 -1\n",
      "  -1 -1 -1  1 -1  1  1  1  1 -1 -1 -1 -1  1 -1  1 -1  1 -1 -1  1 -1 -1 -1\n",
      "  -1 -1 -1 -1 -1 -1  1  1 -1 -1 -1 -1 -1 -1  1 -1 -1 -1 -1 -1 -1 -1 -1 -1\n",
      "  -1  1 -1  1 -1 -1  1 -1 -1 -1 -1  1 -1 -1  1  1  1  1  1  1 -1  1  1 -1\n",
      "  -1 -1 -1 -1  1 -1]]\n",
      "Y:  0\n",
      "1/1 [==============================] - 0s 59ms/step\n",
      "[[3.9230852]]\n"
     ]
    }
   ],
   "source": [
    "index = 30\n",
    "\n",
    "A = X_test.iloc[index].to_numpy()\n",
    "A = A.reshape(1,294)\n",
    "\n",
    "B = Y_test.iloc[index]\n",
    "print(\"X: \", A)\n",
    "print(\"Y: \", B)\n",
    "\n",
    "print(model.predict(A))\n"
   ],
   "metadata": {
    "collapsed": false,
    "ExecuteTime": {
     "end_time": "2024-01-12T12:41:12.294768100Z",
     "start_time": "2024-01-12T12:41:09.938719700Z"
    }
   },
   "id": "de070311a097455b"
  },
  {
   "cell_type": "code",
   "execution_count": null,
   "outputs": [],
   "source": [
    "model.evaluate(X_test, Y_test, verbose=2)\n",
    "\n",
    "# model.save(\"ANN-3Layers.keras\")"
   ],
   "metadata": {
    "collapsed": false
   },
   "id": "dc64fb3b75e7de4c"
  },
  {
   "cell_type": "code",
   "execution_count": null,
   "outputs": [],
   "source": [
    "plt.plot(history.history['loss'])\n",
    "plt.plot(history.history['val_loss'])\n",
    "plt.title('Model loss for 4 layers in NN (200,100,50,50)')\n",
    "plt.ylabel('loss')\n",
    "plt.xlabel('epoch')\n",
    "plt.legend(['train', 'test'], loc='upper left')\n",
    "plt.show()"
   ],
   "metadata": {
    "collapsed": false
   },
   "id": "a10be569949871b"
  }
 ],
 "metadata": {
  "kernelspec": {
   "display_name": "Python 3",
   "language": "python",
   "name": "python3"
  },
  "language_info": {
   "codemirror_mode": {
    "name": "ipython",
    "version": 2
   },
   "file_extension": ".py",
   "mimetype": "text/x-python",
   "name": "python",
   "nbconvert_exporter": "python",
   "pygments_lexer": "ipython2",
   "version": "2.7.6"
  }
 },
 "nbformat": 4,
 "nbformat_minor": 5
}
